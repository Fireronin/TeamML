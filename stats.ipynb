{
 "cells": [
  {
   "cell_type": "code",
   "execution_count": null,
   "metadata": {},
   "outputs": [],
   "source": []
  },
  {
   "cell_type": "code",
   "execution_count": null,
   "metadata": {},
   "outputs": [],
   "source": [
    "df2 = df.filter(df[\"event_type\"] == \"GAME_END\")"
   ]
  },
  {
   "cell_type": "code",
   "execution_count": null,
   "metadata": {},
   "outputs": [],
   "source": [
    "df3 = df2.filter(df2[\"DRAGON100\"] - df2[\"ELDER_DRAGON100\"] == 4)"
   ]
  },
  {
   "cell_type": "code",
   "execution_count": null,
   "metadata": {},
   "outputs": [],
   "source": [
    "df3[\"winning_team\"].value_counts()"
   ]
  },
  {
   "cell_type": "code",
   "execution_count": null,
   "metadata": {},
   "outputs": [],
   "source": [
    "4450 / (4450 + 580)"
   ]
  },
  {
   "cell_type": "code",
   "execution_count": 37,
   "metadata": {},
   "outputs": [
    {
     "data": {
      "text/html": [
       "<div><style>\n",
       ".dataframe > thead > tr > th,\n",
       ".dataframe > tbody > tr > td {\n",
       "  text-align: right;\n",
       "  white-space: pre-wrap;\n",
       "}\n",
       "</style>\n",
       "<small>shape: (3, 2)</small><table border=\"1\" class=\"dataframe\"><thead><tr><th>winning_team</th><th>counts</th></tr><tr><td>i64</td><td>u32</td></tr></thead><tbody><tr><td>200</td><td>2677</td></tr><tr><td>100</td><td>29209</td></tr><tr><td>0</td><td>1</td></tr></tbody></table></div>"
      ],
      "text/plain": [
       "shape: (3, 2)\n",
       "┌──────────────┬────────┐\n",
       "│ winning_team ┆ counts │\n",
       "│ ---          ┆ ---    │\n",
       "│ i64          ┆ u32    │\n",
       "╞══════════════╪════════╡\n",
       "│ 200          ┆ 2677   │\n",
       "│ 100          ┆ 29209  │\n",
       "│ 0            ┆ 1      │\n",
       "└──────────────┴────────┘"
      ]
     },
     "execution_count": 37,
     "metadata": {},
     "output_type": "execute_result"
    }
   ],
   "source": [
    "df.filter((df[\"INHIBITOR_BOT_LANE_KILLEDBY200\"]+df[\"INHIBITOR_MID_LANE_KILLEDBY200\"]+df[\"INHIBITOR_TOP_LANE_KILLEDBY200\"] == 0) & (df[\"INHIBITOR_BOT_LANE_KILLEDBY100\"]+df[\"INHIBITOR_MID_LANE_KILLEDBY100\"]+df[\"INHIBITOR_TOP_LANE_KILLEDBY100\"] == 1)).group_by(\"matchId\").first()[\"winning_team\"].value_counts()"
   ]
  },
  {
   "cell_type": "code",
   "execution_count": 38,
   "metadata": {},
   "outputs": [
    {
     "data": {
      "text/plain": [
       "0.9160446590980368"
      ]
     },
     "execution_count": 38,
     "metadata": {},
     "output_type": "execute_result"
    }
   ],
   "source": [
    "29209 / (29209 + 2677)"
   ]
  },
  {
   "cell_type": "code",
   "execution_count": null,
   "metadata": {},
   "outputs": [],
   "source": [
    "df2[\"winning_team\"].value_counts()"
   ]
  },
  {
   "cell_type": "code",
   "execution_count": null,
   "metadata": {},
   "outputs": [],
   "source": []
  },
  {
   "cell_type": "code",
   "execution_count": null,
   "metadata": {},
   "outputs": [],
   "source": [
    "import polars as pl\n",
    "\n",
    "df = pl.read_parquet(\"parquets/new2.parquet\")"
   ]
  },
  {
   "cell_type": "code",
   "execution_count": 33,
   "metadata": {},
   "outputs": [
    {
     "data": {
      "text/html": [
       "<div><style>\n",
       ".dataframe > thead > tr > th,\n",
       ".dataframe > tbody > tr > td {\n",
       "  text-align: right;\n",
       "  white-space: pre-wrap;\n",
       "}\n",
       "</style>\n",
       "<small>shape: (9, 131)</small><table border=\"1\" class=\"dataframe\"><thead><tr><th>describe</th><th>matchId</th><th>ver</th><th>winning_team</th><th>timestamp</th><th>actingTeam</th><th>actingChamp</th><th>event_type</th><th>plate_fix_applied</th><th>individualPosition1</th><th>champName1</th><th>individualPosition2</th><th>champName2</th><th>individualPosition3</th><th>champName3</th><th>individualPosition4</th><th>champName4</th><th>individualPosition5</th><th>champName5</th><th>individualPosition6</th><th>champName6</th><th>individualPosition7</th><th>champName7</th><th>individualPosition8</th><th>champName8</th><th>individualPosition9</th><th>champName9</th><th>individualPosition10</th><th>champName10</th><th>jungleMinionsKilled100</th><th>jungleMinionsKilled200</th><th>minionsKilled100</th><th>minionsKilled200</th><th>totalGold100</th><th>totalGold200</th><th>Fighter100</th><th>Fighter200</th><th>&hellip;</th><th>xJUNGLE100</th><th>yJUNGLE100</th><th>JUNGLE_KILLEDBY200</th><th>levelBOTTOM100</th><th>xBOTTOM100</th><th>yBOTTOM100</th><th>BOTTOM_KILLEDBY200</th><th>levelUTILITY100</th><th>xUTILITY100</th><th>yUTILITY100</th><th>UTILITY_KILLEDBY200</th><th>levelMIDDLE200</th><th>xMIDDLE200</th><th>yMIDDLE200</th><th>MIDDLE_KILLEDBY100</th><th>levelJUNGLE200</th><th>xJUNGLE200</th><th>yJUNGLE200</th><th>JUNGLE_KILLEDBY100</th><th>levelTOP200</th><th>xTOP200</th><th>yTOP200</th><th>TOP_KILLEDBY100</th><th>levelBOTTOM200</th><th>xBOTTOM200</th><th>yBOTTOM200</th><th>BOTTOM_KILLEDBY100</th><th>levelUTILITY200</th><th>xUTILITY200</th><th>yUTILITY200</th><th>UTILITY_KILLEDBY100</th><th>TOWER_BOT_LANE_KILLEDBY100_diff</th><th>TOWER_BOT_LANE_KILLEDBY200_diff</th><th>TOWER_MID_LANE_KILLEDBY100_diff</th><th>TOWER_MID_LANE_KILLEDBY200_diff</th><th>TOWER_TOP_LANE_KILLEDBY100_diff</th><th>TOWER_TOP_LANE_KILLEDBY200_diff</th></tr><tr><td>str</td><td>str</td><td>str</td><td>f64</td><td>f64</td><td>f64</td><td>str</td><td>str</td><td>f64</td><td>str</td><td>str</td><td>str</td><td>str</td><td>str</td><td>str</td><td>str</td><td>str</td><td>str</td><td>str</td><td>str</td><td>str</td><td>str</td><td>str</td><td>str</td><td>str</td><td>str</td><td>str</td><td>str</td><td>str</td><td>f64</td><td>f64</td><td>f64</td><td>f64</td><td>f64</td><td>f64</td><td>f64</td><td>f64</td><td>&hellip;</td><td>f64</td><td>f64</td><td>f64</td><td>f64</td><td>f64</td><td>f64</td><td>f64</td><td>f64</td><td>f64</td><td>f64</td><td>f64</td><td>f64</td><td>f64</td><td>f64</td><td>f64</td><td>f64</td><td>f64</td><td>f64</td><td>f64</td><td>f64</td><td>f64</td><td>f64</td><td>f64</td><td>f64</td><td>f64</td><td>f64</td><td>f64</td><td>f64</td><td>f64</td><td>f64</td><td>f64</td><td>f64</td><td>f64</td><td>f64</td><td>f64</td><td>f64</td><td>f64</td></tr></thead><tbody><tr><td>&quot;count&quot;</td><td>&quot;9168208&quot;</td><td>&quot;9168208&quot;</td><td>9.168208e6</td><td>9.168208e6</td><td>9.168208e6</td><td>&quot;9168208&quot;</td><td>&quot;9168208&quot;</td><td>9.168208e6</td><td>&quot;9168208&quot;</td><td>&quot;9168208&quot;</td><td>&quot;9168208&quot;</td><td>&quot;9168208&quot;</td><td>&quot;9168208&quot;</td><td>&quot;9168208&quot;</td><td>&quot;9168208&quot;</td><td>&quot;9168208&quot;</td><td>&quot;9168208&quot;</td><td>&quot;9168208&quot;</td><td>&quot;9168208&quot;</td><td>&quot;9168208&quot;</td><td>&quot;9168208&quot;</td><td>&quot;9168208&quot;</td><td>&quot;9168208&quot;</td><td>&quot;9168208&quot;</td><td>&quot;9168208&quot;</td><td>&quot;9168208&quot;</td><td>&quot;9168208&quot;</td><td>&quot;9168208&quot;</td><td>9.168208e6</td><td>9.168208e6</td><td>9.168208e6</td><td>9.168208e6</td><td>9.168208e6</td><td>9.168208e6</td><td>9.168208e6</td><td>9.168208e6</td><td>&hellip;</td><td>9.168208e6</td><td>9.168208e6</td><td>9.168208e6</td><td>9.168208e6</td><td>9.168208e6</td><td>9.168208e6</td><td>9.168208e6</td><td>9.168208e6</td><td>9.168208e6</td><td>9.168208e6</td><td>9.168208e6</td><td>9.168208e6</td><td>9.168208e6</td><td>9.168208e6</td><td>9.168208e6</td><td>9.168208e6</td><td>9.168208e6</td><td>9.168208e6</td><td>9.168208e6</td><td>9.168208e6</td><td>9.168208e6</td><td>9.168208e6</td><td>9.168208e6</td><td>9.168208e6</td><td>9.168208e6</td><td>9.168208e6</td><td>9.168208e6</td><td>9.168208e6</td><td>9.168208e6</td><td>9.168208e6</td><td>9.168208e6</td><td>9.168208e6</td><td>9.168208e6</td><td>9.168208e6</td><td>9.168208e6</td><td>9.168208e6</td><td>9.168208e6</td></tr><tr><td>&quot;null_count&quot;</td><td>&quot;0&quot;</td><td>&quot;0&quot;</td><td>0.0</td><td>0.0</td><td>2.231223e6</td><td>&quot;2231223&quot;</td><td>&quot;0&quot;</td><td>0.0</td><td>&quot;0&quot;</td><td>&quot;0&quot;</td><td>&quot;0&quot;</td><td>&quot;0&quot;</td><td>&quot;0&quot;</td><td>&quot;0&quot;</td><td>&quot;0&quot;</td><td>&quot;0&quot;</td><td>&quot;0&quot;</td><td>&quot;0&quot;</td><td>&quot;0&quot;</td><td>&quot;0&quot;</td><td>&quot;0&quot;</td><td>&quot;0&quot;</td><td>&quot;0&quot;</td><td>&quot;0&quot;</td><td>&quot;0&quot;</td><td>&quot;0&quot;</td><td>&quot;0&quot;</td><td>&quot;0&quot;</td><td>0.0</td><td>0.0</td><td>0.0</td><td>0.0</td><td>0.0</td><td>0.0</td><td>0.0</td><td>0.0</td><td>&hellip;</td><td>0.0</td><td>0.0</td><td>0.0</td><td>0.0</td><td>0.0</td><td>0.0</td><td>0.0</td><td>0.0</td><td>0.0</td><td>0.0</td><td>0.0</td><td>0.0</td><td>0.0</td><td>0.0</td><td>0.0</td><td>0.0</td><td>0.0</td><td>0.0</td><td>0.0</td><td>0.0</td><td>0.0</td><td>0.0</td><td>0.0</td><td>0.0</td><td>0.0</td><td>0.0</td><td>0.0</td><td>0.0</td><td>0.0</td><td>0.0</td><td>0.0</td><td>79346.0</td><td>79346.0</td><td>79346.0</td><td>79346.0</td><td>79346.0</td><td>79346.0</td></tr><tr><td>&quot;mean&quot;</td><td>null</td><td>null</td><td>152.356698</td><td>9402.503922</td><td>150.330525</td><td>null</td><td>null</td><td>0.0</td><td>null</td><td>null</td><td>null</td><td>null</td><td>null</td><td>null</td><td>null</td><td>null</td><td>null</td><td>null</td><td>null</td><td>null</td><td>null</td><td>null</td><td>null</td><td>null</td><td>null</td><td>null</td><td>null</td><td>null</td><td>90.741184</td><td>91.746157</td><td>371.751025</td><td>375.097027</td><td>30870.166529</td><td>30951.303172</td><td>1.9092</td><td>1.909028</td><td>&hellip;</td><td>0.476484</td><td>0.55322</td><td>2.622872</td><td>8.950334</td><td>0.573025</td><td>0.67472</td><td>2.934151</td><td>7.72952</td><td>0.523443</td><td>0.66023</td><td>2.874547</td><td>10.274653</td><td>0.567354</td><td>0.467804</td><td>2.57283</td><td>9.360238</td><td>0.575314</td><td>0.467614</td><td>2.636575</td><td>10.338209</td><td>0.412764</td><td>0.325083</td><td>2.668372</td><td>9.002003</td><td>0.678668</td><td>0.565692</td><td>2.894701</td><td>7.741875</td><td>0.663399</td><td>0.517912</td><td>2.85237</td><td>0.012803</td><td>0.0137</td><td>0.015188</td><td>0.015671</td><td>0.01221</td><td>0.01226</td></tr><tr><td>&quot;std&quot;</td><td>null</td><td>null</td><td>49.949039</td><td>4796.157046</td><td>49.998911</td><td>null</td><td>null</td><td>0.0</td><td>null</td><td>null</td><td>null</td><td>null</td><td>null</td><td>null</td><td>null</td><td>null</td><td>null</td><td>null</td><td>null</td><td>null</td><td>null</td><td>null</td><td>null</td><td>null</td><td>null</td><td>null</td><td>null</td><td>null</td><td>51.761074</td><td>52.622507</td><td>194.845319</td><td>196.975259</td><td>17156.882331</td><td>17236.095651</td><td>0.831333</td><td>0.834477</td><td>&hellip;</td><td>0.250914</td><td>0.240498</td><td>2.392079</td><td>3.725381</td><td>0.265789</td><td>0.231895</td><td>2.538473</td><td>3.201967</td><td>0.264552</td><td>0.232207</td><td>2.529759</td><td>3.744858</td><td>0.225032</td><td>0.22905</td><td>2.38215</td><td>3.820081</td><td>0.239284</td><td>0.246685</td><td>2.391881</td><td>3.815156</td><td>0.282793</td><td>0.256204</td><td>2.437734</td><td>3.750448</td><td>0.235034</td><td>0.263557</td><td>2.526391</td><td>3.215876</td><td>0.233481</td><td>0.262191</td><td>2.523303</td><td>0.112425</td><td>0.116243</td><td>0.122302</td><td>0.1242</td><td>0.109822</td><td>0.110045</td></tr><tr><td>&quot;min&quot;</td><td>&quot;EUN1_330981765…</td><td>&quot;13.1.489.3737&quot;</td><td>0.0</td><td>0.0</td><td>100.0</td><td>&quot;0&quot;</td><td>&quot;BUILDING_KILL&quot;</td><td>0.0</td><td>&quot;BOTTOM&quot;</td><td>&quot;Aatrox&quot;</td><td>&quot;BOTTOM&quot;</td><td>&quot;Aatrox&quot;</td><td>&quot;BOTTOM&quot;</td><td>&quot;Aatrox&quot;</td><td>&quot;BOTTOM&quot;</td><td>&quot;Aatrox&quot;</td><td>&quot;BOTTOM&quot;</td><td>&quot;Aatrox&quot;</td><td>&quot;BOTTOM&quot;</td><td>&quot;Aatrox&quot;</td><td>&quot;BOTTOM&quot;</td><td>&quot;Aatrox&quot;</td><td>&quot;BOTTOM&quot;</td><td>&quot;Aatrox&quot;</td><td>&quot;BOTTOM&quot;</td><td>&quot;Aatrox&quot;</td><td>&quot;BOTTOM&quot;</td><td>&quot;Aatrox&quot;</td><td>0.0</td><td>0.0</td><td>0.0</td><td>0.0</td><td>2500.0</td><td>2500.0</td><td>0.0</td><td>0.0</td><td>&hellip;</td><td>0.003329</td><td>-0.001427</td><td>0.0</td><td>1.0</td><td>0.003329</td><td>-0.001427</td><td>0.0</td><td>1.0</td><td>0.003329</td><td>-0.001087</td><td>0.0</td><td>1.0</td><td>0.003329</td><td>-0.002038</td><td>0.0</td><td>1.0</td><td>0.003397</td><td>-0.001427</td><td>0.0</td><td>1.0</td><td>0.005978</td><td>-0.001427</td><td>0.0</td><td>1.0</td><td>0.003397</td><td>-0.00163</td><td>0.0</td><td>1.0</td><td>0.004076</td><td>-0.001427</td><td>0.0</td><td>0.0</td><td>0.0</td><td>0.0</td><td>0.0</td><td>0.0</td><td>0.0</td></tr><tr><td>&quot;25%&quot;</td><td>null</td><td>null</td><td>100.0</td><td>5918.0</td><td>100.0</td><td>null</td><td>null</td><td>0.0</td><td>null</td><td>null</td><td>null</td><td>null</td><td>null</td><td>null</td><td>null</td><td>null</td><td>null</td><td>null</td><td>null</td><td>null</td><td>null</td><td>null</td><td>null</td><td>null</td><td>null</td><td>null</td><td>null</td><td>null</td><td>52.0</td><td>52.0</td><td>228.0</td><td>229.0</td><td>17591.0</td><td>17597.0</td><td>1.0</td><td>1.0</td><td>&hellip;</td><td>0.265014</td><td>0.381658</td><td>1.0</td><td>6.0</td><td>0.376834</td><td>0.513451</td><td>1.0</td><td>6.0</td><td>0.322147</td><td>0.502446</td><td>1.0</td><td>8.0</td><td>0.438383</td><td>0.326087</td><td>1.0</td><td>7.0</td><td>0.405639</td><td>0.281658</td><td>1.0</td><td>8.0</td><td>0.170856</td><td>0.110394</td><td>1.0</td><td>6.0</td><td>0.516508</td><td>0.37038</td><td>1.0</td><td>6.0</td><td>0.506793</td><td>0.31875</td><td>1.0</td><td>0.0</td><td>0.0</td><td>0.0</td><td>0.0</td><td>0.0</td><td>0.0</td></tr><tr><td>&quot;50%&quot;</td><td>null</td><td>null</td><td>200.0</td><td>9002.0</td><td>200.0</td><td>null</td><td>null</td><td>0.0</td><td>null</td><td>null</td><td>null</td><td>null</td><td>null</td><td>null</td><td>null</td><td>null</td><td>null</td><td>null</td><td>null</td><td>null</td><td>null</td><td>null</td><td>null</td><td>null</td><td>null</td><td>null</td><td>null</td><td>null</td><td>84.0</td><td>84.0</td><td>366.0</td><td>369.0</td><td>28642.0</td><td>28704.0</td><td>2.0</td><td>2.0</td><td>&hellip;</td><td>0.476766</td><td>0.564946</td><td>2.0</td><td>9.0</td><td>0.6015625</td><td>0.723302</td><td>2.0</td><td>8.0</td><td>0.532609</td><td>0.693954</td><td>2.0</td><td>10.0</td><td>0.547283</td><td>0.481318</td><td>2.0</td><td>9.0</td><td>0.584443</td><td>0.465557</td><td>2.0</td><td>11.0</td><td>0.322486</td><td>0.24837</td><td>2.0</td><td>9.0</td><td>0.726427</td><td>0.592867</td><td>2.0</td><td>8.0</td><td>0.706793</td><td>0.530027</td><td>2.0</td><td>0.0</td><td>0.0</td><td>0.0</td><td>0.0</td><td>0.0</td><td>0.0</td></tr><tr><td>&quot;75%&quot;</td><td>null</td><td>null</td><td>200.0</td><td>12816.0</td><td>200.0</td><td>null</td><td>null</td><td>0.0</td><td>null</td><td>null</td><td>null</td><td>null</td><td>null</td><td>null</td><td>null</td><td>null</td><td>null</td><td>null</td><td>null</td><td>null</td><td>null</td><td>null</td><td>null</td><td>null</td><td>null</td><td>null</td><td>null</td><td>null</td><td>124.0</td><td>126.0</td><td>517.0</td><td>522.0</td><td>42932.0</td><td>43085.0</td><td>2.0</td><td>2.0</td><td>&hellip;</td><td>0.668886</td><td>0.746128</td><td>4.0</td><td>12.0</td><td>0.802717</td><td>0.877038</td><td>4.0</td><td>10.0</td><td>0.752717</td><td>0.863587</td><td>4.0</td><td>13.0</td><td>0.726019</td><td>0.586209</td><td>4.0</td><td>12.0</td><td>0.773913</td><td>0.65231</td><td>4.0</td><td>13.0</td><td>0.634443</td><td>0.490353</td><td>4.0</td><td>12.0</td><td>0.885462</td><td>0.793207</td><td>4.0</td><td>10.0</td><td>0.865829</td><td>0.74538</td><td>4.0</td><td>0.0</td><td>0.0</td><td>0.0</td><td>0.0</td><td>0.0</td><td>0.0</td></tr><tr><td>&quot;max&quot;</td><td>&quot;NA1_4681322354…</td><td>&quot;13.9.506.4846&quot;</td><td>200.0</td><td>34854.0</td><td>200.0</td><td>&quot;UTILITY&quot;</td><td>&quot;TURRET_PLATE_D…</td><td>0.0</td><td>&quot;UTILITY&quot;</td><td>&quot;Zyra&quot;</td><td>&quot;UTILITY&quot;</td><td>&quot;Zyra&quot;</td><td>&quot;UTILITY&quot;</td><td>&quot;Zyra&quot;</td><td>&quot;UTILITY&quot;</td><td>&quot;Zyra&quot;</td><td>&quot;UTILITY&quot;</td><td>&quot;Zyra&quot;</td><td>&quot;UTILITY&quot;</td><td>&quot;Zyra&quot;</td><td>&quot;UTILITY&quot;</td><td>&quot;Zyra&quot;</td><td>&quot;UTILITY&quot;</td><td>&quot;Zyra&quot;</td><td>&quot;UTILITY&quot;</td><td>&quot;Zyra&quot;</td><td>&quot;UTILITY&quot;</td><td>&quot;Zyra&quot;</td><td>425.0</td><td>403.0</td><td>1293.0</td><td>1395.0</td><td>115387.0</td><td>118719.0</td><td>5.0</td><td>5.0</td><td>&hellip;</td><td>0.996332</td><td>0.990965</td><td>20.0</td><td>18.0</td><td>0.996875</td><td>0.990965</td><td>24.0</td><td>18.0</td><td>0.996399</td><td>0.990897</td><td>27.0</td><td>18.0</td><td>0.996399</td><td>0.990285</td><td>22.0</td><td>18.0</td><td>0.996399</td><td>0.990489</td><td>21.0</td><td>18.0</td><td>0.996399</td><td>0.990285</td><td>21.0</td><td>18.0</td><td>0.996399</td><td>0.990897</td><td>20.0</td><td>18.0</td><td>0.996875</td><td>0.986957</td><td>29.0</td><td>1.0</td><td>1.0</td><td>1.0</td><td>1.0</td><td>1.0</td><td>1.0</td></tr></tbody></table></div>"
      ],
      "text/plain": [
       "shape: (9, 131)\n",
       "┌───────────┬───────────┬───────────┬───────────┬───┬───────────┬───────────┬───────────┬──────────┐\n",
       "│ describe  ┆ matchId   ┆ ver       ┆ winning_t ┆ … ┆ TOWER_MID ┆ TOWER_MID ┆ TOWER_TOP ┆ TOWER_TO │\n",
       "│ ---       ┆ ---       ┆ ---       ┆ eam       ┆   ┆ _LANE_KIL ┆ _LANE_KIL ┆ _LANE_KIL ┆ P_LANE_K │\n",
       "│ str       ┆ str       ┆ str       ┆ ---       ┆   ┆ LEDBY100_ ┆ LEDBY200_ ┆ LEDBY100_ ┆ ILLEDBY2 │\n",
       "│           ┆           ┆           ┆ f64       ┆   ┆ diff      ┆ diff      ┆ diff      ┆ 00_diff  │\n",
       "│           ┆           ┆           ┆           ┆   ┆ ---       ┆ ---       ┆ ---       ┆ ---      │\n",
       "│           ┆           ┆           ┆           ┆   ┆ f64       ┆ f64       ┆ f64       ┆ f64      │\n",
       "╞═══════════╪═══════════╪═══════════╪═══════════╪═══╪═══════════╪═══════════╪═══════════╪══════════╡\n",
       "│ count     ┆ 9168208   ┆ 9168208   ┆ 9.168208e ┆ … ┆ 9.168208e ┆ 9.168208e ┆ 9.168208e ┆ 9.168208 │\n",
       "│           ┆           ┆           ┆ 6         ┆   ┆ 6         ┆ 6         ┆ 6         ┆ e6       │\n",
       "│ null_coun ┆ 0         ┆ 0         ┆ 0.0       ┆ … ┆ 79346.0   ┆ 79346.0   ┆ 79346.0   ┆ 79346.0  │\n",
       "│ t         ┆           ┆           ┆           ┆   ┆           ┆           ┆           ┆          │\n",
       "│ mean      ┆ null      ┆ null      ┆ 152.35669 ┆ … ┆ 0.015188  ┆ 0.015671  ┆ 0.01221   ┆ 0.01226  │\n",
       "│           ┆           ┆           ┆ 8         ┆   ┆           ┆           ┆           ┆          │\n",
       "│ std       ┆ null      ┆ null      ┆ 49.949039 ┆ … ┆ 0.122302  ┆ 0.1242    ┆ 0.109822  ┆ 0.110045 │\n",
       "│ min       ┆ EUN1_3309 ┆ 13.1.489. ┆ 0.0       ┆ … ┆ 0.0       ┆ 0.0       ┆ 0.0       ┆ 0.0      │\n",
       "│           ┆ 817653    ┆ 3737      ┆           ┆   ┆           ┆           ┆           ┆          │\n",
       "│ 25%       ┆ null      ┆ null      ┆ 100.0     ┆ … ┆ 0.0       ┆ 0.0       ┆ 0.0       ┆ 0.0      │\n",
       "│ 50%       ┆ null      ┆ null      ┆ 200.0     ┆ … ┆ 0.0       ┆ 0.0       ┆ 0.0       ┆ 0.0      │\n",
       "│ 75%       ┆ null      ┆ null      ┆ 200.0     ┆ … ┆ 0.0       ┆ 0.0       ┆ 0.0       ┆ 0.0      │\n",
       "│ max       ┆ NA1_46813 ┆ 13.9.506. ┆ 200.0     ┆ … ┆ 1.0       ┆ 1.0       ┆ 1.0       ┆ 1.0      │\n",
       "│           ┆ 22354     ┆ 4846      ┆           ┆   ┆           ┆           ┆           ┆          │\n",
       "└───────────┴───────────┴───────────┴───────────┴───┴───────────┴───────────┴───────────┴──────────┘"
      ]
     },
     "execution_count": 33,
     "metadata": {},
     "output_type": "execute_result"
    }
   ],
   "source": [
    "df.describe()"
   ]
  }
 ],
 "metadata": {
  "kernelspec": {
   "display_name": ".venv",
   "language": "python",
   "name": "python3"
  },
  "language_info": {
   "codemirror_mode": {
    "name": "ipython",
    "version": 3
   },
   "file_extension": ".py",
   "mimetype": "text/x-python",
   "name": "python",
   "nbconvert_exporter": "python",
   "pygments_lexer": "ipython3",
   "version": "3.11.6"
  }
 },
 "nbformat": 4,
 "nbformat_minor": 2
}
